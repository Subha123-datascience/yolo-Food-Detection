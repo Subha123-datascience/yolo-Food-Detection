{
 "cells": [
  {
   "cell_type": "code",
   "execution_count": 1,
   "id": "2284090d-9018-4b6b-98d4-c668e1e60cf7",
   "metadata": {},
   "outputs": [
    {
     "name": "stdout",
     "output_type": "stream",
     "text": [
      "Requirement already satisfied: opencv-python in c:\\users\\asus\\anaconda3\\lib\\site-packages (4.7.0)\n"
     ]
    }
   ],
   "source": [
    "!pip install opencv-python\n"
   ]
  },
  {
   "cell_type": "code",
   "execution_count": 2,
   "id": "b22ccd3e",
   "metadata": {},
   "outputs": [],
   "source": [
    "\n",
    "import cv2\n",
    "from yolo_predictions import YOLO_Pred"
   ]
  },
  {
   "cell_type": "code",
   "execution_count": 3,
   "id": "aae7f92a",
   "metadata": {},
   "outputs": [],
   "source": [
    "yolo = YOLO_Pred('food_model9-20250514T063250Z-1-001/food_model9/weights/best.onnx','data (1).yaml')"
   ]
  },
  {
   "cell_type": "code",
   "execution_count": 4,
   "id": "0ebe1575-8120-4e8a-8ffa-cee69f6054ba",
   "metadata": {},
   "outputs": [],
   "source": [
    "# img = cv2.imread(r\"2_prediction/1400x919-MargaritaPizza-555a4065-2573-4b41-bcf3-7193cd095d8f-0-1400x919.jpg\")\n",
    "\n",
    "# cv2.imshow('image',img)\n",
    "# cv2.waitKey(0)\"C:\\Users\\ASUS\\Downloads\\archive\\train\\images\\21_jpg.rf.cd399c1de7f9dfe1410f2a19d1a4746f.jpg\"\n",
    "# cv2.destroyAllWindows()\"C:\\Users\\ASUS\\Downloads\\archive\\train\\images\\Burger-2_jpg.rf.21bbc5e855482e5747a586ed6a2eda68.jpg\"\n",
    "\n",
    "import cv2\n",
    "import matplotlib.pyplot as plt\n",
    "img = cv2.imread(r\"C:\\Users\\ASUS\\Downloads\\OIP (9).jpeg\")\n",
    "cv2.imshow('img',img);\n",
    "cv2.waitKey(0)\n",
    "cv2.destroyAllWindows()"
   ]
  },
  {
   "cell_type": "code",
   "execution_count": 5,
   "id": "2da584b5",
   "metadata": {},
   "outputs": [],
   "source": [
    "# predictions\n",
    "img_pred = yolo.predictions(img)"
   ]
  },
  {
   "cell_type": "code",
   "execution_count": 6,
   "id": "fe0f06f4",
   "metadata": {},
   "outputs": [],
   "source": [
    "\n",
    "cv2.imshow('pred_img',img_pred);\n",
    "cv2.waitKey(0)\n",
    "cv2.destroyAllWindows()"
   ]
  },
  {
   "cell_type": "markdown",
   "id": "fbcfbd9f",
   "metadata": {},
   "source": [
    "## Real Time Object Detection"
   ]
  },
  {
   "cell_type": "code",
   "execution_count": null,
   "id": "d13ba8d8",
   "metadata": {},
   "outputs": [],
   "source": [
    "cap = cv2.VideoCapture('video.mp5.mp4')\n",
    "\n",
    "\n",
    "\n",
    "while True:\n",
    "    ret, frame = cap.read()\n",
    "    if ret == False:\n",
    "        print('unable to read video')\n",
    "        break\n",
    "        \n",
    "    pred_image = yolo.predictions(frame)\n",
    "    \n",
    "    cv2.imshow('YOLO',pred_image)\n",
    "    if cv2.waitKey(1) =='q':\n",
    "        break\n",
    "        \n",
    "cv2.destroyAllWindows()\n",
    "cap.release()"
   ]
  }
 ],
 "metadata": {
  "kernelspec": {
   "display_name": "Python 3 (ipykernel)",
   "language": "python",
   "name": "python3"
  },
  "language_info": {
   "codemirror_mode": {
    "name": "ipython",
    "version": 3
   },
   "file_extension": ".py",
   "mimetype": "text/x-python",
   "name": "python",
   "nbconvert_exporter": "python",
   "pygments_lexer": "ipython3",
   "version": "3.11.7"
  }
 },
 "nbformat": 4,
 "nbformat_minor": 5
}
